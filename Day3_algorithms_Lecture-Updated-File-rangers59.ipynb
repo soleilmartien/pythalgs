{
 "cells": [
  {
   "cell_type": "markdown",
   "metadata": {},
   "source": [
    "# Algorithms, Binary Search & Linked Lists"
   ]
  },
  {
   "cell_type": "markdown",
   "metadata": {},
   "source": [
    "## Tasks Today:\n",
    " \n",
    "1) <b>In-Place Algorithms</b> <br>\n",
    " &nbsp;&nbsp;&nbsp;&nbsp; a) Syntax <br>\n",
    " &nbsp;&nbsp;&nbsp;&nbsp; a) Out of Place Algorithm <br>\n",
    " &nbsp;&nbsp;&nbsp;&nbsp; b) In-Class Exercise #1 <br>\n",
    "2) <b>Two Pointers</b> <br>\n",
    "3) <b>Linked Lists</b> <br>\n",
    "4) <b>Merge Sort</b> <br>\n",
    " &nbsp;&nbsp;&nbsp;&nbsp; a) Video on Algorithms <br>\n",
    " &nbsp;&nbsp;&nbsp;&nbsp; b) How it Works <br>\n",
    "5) <b>Exercises</b> <br>\n",
    " &nbsp;&nbsp;&nbsp;&nbsp; a) Exercise #1 - Reverse a List in Place Using an In-Place Algorithm <br>\n",
    " &nbsp;&nbsp;&nbsp;&nbsp; b) Exercise #2 - Find Distinct Words <br>\n",
    " &nbsp;&nbsp;&nbsp;&nbsp; c) Exercise #3 - Write a program to implement a Linear Search Algorithm. <br>"
   ]
  },
  {
   "cell_type": "markdown",
   "metadata": {},
   "source": [
    "## In-Place Algorithms"
   ]
  },
  {
   "cell_type": "markdown",
   "metadata": {},
   "source": [
    "#### Syntax"
   ]
  },
  {
   "cell_type": "code",
   "execution_count": 3,
   "metadata": {},
   "outputs": [
    {
     "name": "stdout",
     "output_type": "stream",
     "text": [
      "[1, 5, 2]\n",
      "[2, 5, 1]\n"
     ]
    }
   ],
   "source": [
    "#var[i], var[i+1] = var[i+1], var[i]\n",
    "#sometimes known as a swap algorithm\n",
    "def swap(list, x, y ,z):\n",
    "    list[x], list[y], list[z] = list[z], list[y], list[x]\n",
    "    return list\n",
    "list = [1,5,2]\n",
    "print(list)\n",
    "print(swap(list, 0, 1, 2))"
   ]
  },
  {
   "cell_type": "markdown",
   "metadata": {},
   "source": [
    "#### Out of Place Algorithm"
   ]
  },
  {
   "cell_type": "code",
   "execution_count": 6,
   "metadata": {},
   "outputs": [
    {
     "name": "stdout",
     "output_type": "stream",
     "text": [
      "[1, 5, 2]\n",
      "[2, 5, 1]\n"
     ]
    }
   ],
   "source": [
    "listc = list[::-1]\n",
    "print(listc)\n",
    "print(list)\n"
   ]
  },
  {
   "cell_type": "markdown",
   "metadata": {},
   "source": [
    "#### In-Class Exercise #1 <br>\n",
    "<p>Write a function that takes in four arguments (list, index1, index2, index3), and swaps those three positions in the list passed in.</p>"
   ]
  },
  {
   "cell_type": "code",
   "execution_count": 1,
   "metadata": {},
   "outputs": [
    {
     "data": {
      "text/plain": [
       "[10, 2, 3, 8, 4, 4, 6]"
      ]
     },
     "execution_count": 1,
     "metadata": {},
     "output_type": "execute_result"
    }
   ],
   "source": [
    "l_1 = [10, 4, 3, 8, 4, 2, 6]\n",
    "def swap(l_1, index1, index2 ,index3):\n",
    "    l_1[index1], l_1[index2], l_1[index3] = l_1[index3], l_1[index2], l_1[index1]\n",
    "    return l_1\n",
    "swap(l_1, 1,3,5)\n",
    "\n"
   ]
  },
  {
   "cell_type": "markdown",
   "metadata": {},
   "source": [
    "## Two Pointers"
   ]
  },
  {
   "cell_type": "markdown",
   "metadata": {},
   "source": [
    "#### Syntax"
   ]
  },
  {
   "cell_type": "code",
   "execution_count": 3,
   "metadata": {},
   "outputs": [
    {
     "data": {
      "text/plain": [
       "[22, 11, 4, 8, 9, 12, 3, 2, 1]"
      ]
     },
     "execution_count": 3,
     "metadata": {},
     "output_type": "execute_result"
    }
   ],
   "source": [
    "def twoPointer(alist):\n",
    "    left = 0 \n",
    "    right = len(alist)-1\n",
    "    while left <= right:\n",
    "        alist[left], alist[right], = alist[right], alist[left]\n",
    "        left += 1\n",
    "        right -=1\n",
    "    return alist\n",
    "l= [1,2,3,12,9,8,4,11,22]\n",
    "twoPointer(l)"
   ]
  },
  {
   "cell_type": "markdown",
   "metadata": {},
   "source": [
    "#### Video of Algorithms <br>\n",
    "<p>Watch the video about algorithms.</p>\n",
    "\n",
    "https://www.youtube.com/watch?v=Q9HjeFD62Uk\n",
    "\n",
    "https://www.youtube.com/watch?v=kPRA0W1kECg\n",
    "\n",
    "https://www.youtube.com/watch?v=ZZuD6iUe3Pc"
   ]
  },
  {
   "cell_type": "markdown",
   "metadata": {},
   "source": [
    "# Sorting Algorithms"
   ]
  },
  {
   "cell_type": "markdown",
   "metadata": {},
   "source": [
    "#### Bubble Sort\n",
    "\n",
    "Worst Case: O(n^2) Time - O(1) Space"
   ]
  },
  {
   "cell_type": "code",
   "execution_count": null,
   "metadata": {},
   "outputs": [],
   "source": [
    "def swap(i,j,array):\n",
    "    array[i], array[j] = array[j],array[i]\n",
    "def bubbleSort(array):\n",
    "    isSorted = False\n",
    "    while not isSorted:\n",
    "        isSorted = True\n",
    "        for num in range(len(array)-1):\n",
    "            if array[num] > array[num-1]:\n",
    "                swap(num, num+1, array)\n",
    "                isSorted = False"
   ]
  },
  {
   "cell_type": "markdown",
   "metadata": {},
   "source": [
    "##### Insertion Sort\n",
    "\n",
    "Worst Case: O(n^2) time - O(1)space"
   ]
  },
  {
   "cell_type": "code",
   "execution_count": null,
   "metadata": {},
   "outputs": [],
   "source": [
    "def swap(i,j,array):\n",
    "    array[i], array[j] = array[j],array[i]\n",
    "def s(a):\n",
    "    for i in range(1, len(array)):\n",
    "        j = i\n",
    "        while j > 0 and a[j] < a[j-1]:\n",
    "            swap(j,j-1,array)\n",
    "            j-=1\n",
    "    return a"
   ]
  },
  {
   "cell_type": "markdown",
   "metadata": {},
   "source": [
    "## Merge Sort"
   ]
  },
  {
   "cell_type": "markdown",
   "metadata": {},
   "source": [
    "#### How it Works"
   ]
  },
  {
   "cell_type": "code",
   "execution_count": null,
   "metadata": {},
   "outputs": [],
   "source": [
    "from random inport randint\n",
    "nums = [randint(0,20) for i in range(5)]\n",
    "def s(l):\n",
    "    print(\"Splitting.. \", l)\n",
    "    if len(l > 1):\n",
    "          mid = len(l)//2\n",
    "            le = l[:mid]\n",
    "            r = l[mid:]\n",
    "            s(le)\n",
    "            s(r)\n",
    "            i = 0\n",
    "            j=0\n",
    "            k=0\n",
    "            while i < len(le) and j < len(r):\n",
    "                if le[i] < r[j]:\n",
    "                    l[k] = le[i]\n",
    "                    i +=1\n",
    "                else:\n",
    "                    l[k] = r[j]\n",
    "                    j+=1\n",
    "                k+=1\n",
    "            while i < len(le):\n",
    "                l[k] = le[i]\n",
    "                i+=1\n",
    "                k+=1\n",
    "            while j< len(r):\n",
    "                l[k]=r[j]\n",
    "                j+=1\n",
    "                k+=1\n",
    "    print(\"Merging.. \", l)\n",
    "    return l"
   ]
  },
  {
   "cell_type": "markdown",
   "metadata": {},
   "source": [
    "# Binary Search\n",
    "\n",
    "The Binary Search algorithm works by finding the number in the middle of a given array and comparing it to the target. Given that the array is sorted\n",
    "\n",
    "* The worst case run time for this algorithm is `O(log(n))`"
   ]
  },
  {
   "cell_type": "code",
   "execution_count": 6,
   "metadata": {},
   "outputs": [
    {
     "data": {
      "text/plain": [
       "'The index is.. 11'"
      ]
     },
     "execution_count": 6,
     "metadata": {},
     "output_type": "execute_result"
    }
   ],
   "source": [
    "def s(a,t,l,r):\n",
    "    while l<=r:\n",
    "        m=(l+r)//2\n",
    "        p = a[m]\n",
    "        if t == p:\n",
    "            return f\"The index is.. {m}\"\n",
    "        elif t < p:\n",
    "            r = m-1\n",
    "        else: \n",
    "            l = m+1\n",
    "    return -1\n",
    "def ss (a,t):\n",
    "    return s(a,t,0,len(a)-1)\n",
    "ss([1,2,3,4,5,6,7,8,9,12,21,23,25],23)"
   ]
  },
  {
   "cell_type": "markdown",
   "metadata": {},
   "source": [
    "# Exercises"
   ]
  },
  {
   "cell_type": "markdown",
   "metadata": {},
   "source": [
    "### Exercise #1 <br>\n",
    "<p>Reverse the list below in-place using an in-place algorithm.<br>For extra credit: Reverse the strings at the same time.</p>"
   ]
  },
  {
   "cell_type": "code",
   "execution_count": 20,
   "metadata": {},
   "outputs": [
    {
     "name": "stdout",
     "output_type": "stream",
     "text": [
      "['.', 'ecnetnes', 'a', 'si', 'siht']\n"
     ]
    }
   ],
   "source": [
    "words = ['this' , 'is', 'a', 'sentence', '.']\n",
    "for x in range(len(words)//2):\n",
    "    words[x], words[len(words)-1-x] = words[len(words)-1-x][::-1], words[x][::-1]\n",
    "print(words)\n",
    "\n"
   ]
  },
  {
   "cell_type": "markdown",
   "metadata": {},
   "source": [
    "### Exercise #2 <br>\n",
    "<p>Create a function that counts how many distinct words are in the string below, then outputs a dictionary with the words as the key and the value as the amount of times that word appears in the string.<br>Should output:<br>{'a': 5,<br>\n",
    " 'abstract': 1,<br>\n",
    " 'an': 3,<br>\n",
    " 'array': 2, ... etc...</p>"
   ]
  },
  {
   "cell_type": "code",
   "execution_count": 8,
   "metadata": {},
   "outputs": [
    {
     "name": "stdout",
     "output_type": "stream",
     "text": [
      "OrderedDict([('a', 5), ('abstract', 1), ('an', 3), ('array', 2), ('associative', 1), ('be', 1), ('buckets', 1), ('can', 2), ('compute', 1), ('computing,', 1), ('data', 2), ('desired', 1), ('found', 1), ('from', 1), ('function', 1), ('hash', 4), ('implements', 1), ('in', 1), ('index', 1), ('into', 1), ('is', 1), ('keys', 1), ('map', 2), ('of', 1), ('or', 1), ('slots', 1), ('structure', 2), ('table', 2), ('that', 1), ('the', 1), ('to', 2), ('type,', 1), ('uses', 1), ('value', 1), ('values.', 1), ('which', 2)])\n"
     ]
    }
   ],
   "source": [
    "import collections\n",
    "a_text = 'In computing, a hash table hash map is a data structure which implements an associative array abstract data type, a structure that can map keys to values. A hash table uses a hash function to compute an index into an array of buckets or slots from which the desired value can be found'\n",
    "import collections\n",
    "def f(stri):\n",
    "    d = {}\n",
    "    for x in stri.split():\n",
    "        x = x.lower()\n",
    "        if x in d:\n",
    "            d[x] += 1\n",
    "        else:\n",
    "            d[x] = 1\n",
    "    dd= collections.OrderedDict(sorted(d.items()))\n",
    "    return dd\n",
    "print(f(a_text))\n",
    "            \n",
    "    \n",
    "    \n"
   ]
  },
  {
   "cell_type": "markdown",
   "metadata": {},
   "source": [
    "## Exercise #3\n",
    "\n",
    "Write a program to implement a Linear Search Algorithm. Also in a comment, write the Time Complexity of the following algorithm.\n",
    "\n",
    "#### Hint: Linear Searching will require searching a list for a given number. "
   ]
  },
  {
   "cell_type": "code",
   "execution_count": 9,
   "metadata": {},
   "outputs": [
    {
     "name": "stdout",
     "output_type": "stream",
     "text": [
      "[52, 39, 5, 31, 58, 37, 62, 15, 58, 17, 69, 42, 56, 37, 35, 61, 68, 70, 55, 39, 25, 31, 38, 69, 62, 7, 26, 65, 39, 12, 9, 65, 64, 0, 68, 58, 14, 70, 11, 33, 54, 53, 37, 27, 50, 13, 29, 46, 23, 7, 7, 61, 67, 53, 11, 55, 21, 29, 45, 46, 23, 50, 22, 61, 28, 31, 16, 70, 56, 22, 8, 36, 46, 6, 56, 56, 58, 12, 12, 31, 23, 22, 70, 37, 9, 28, 9, 19, 10, 33, 49, 30, 32, 49, 69, 35, 42, 32, 22, 11]\n"
     ]
    },
    {
     "data": {
      "text/plain": [
       "9"
      ]
     },
     "execution_count": 9,
     "metadata": {},
     "output_type": "execute_result"
    }
   ],
   "source": [
    "import random\n",
    "l = []\n",
    "le = 100\n",
    "while le != 0:\n",
    "    le +=-1\n",
    "    l.append(random.randint(0,70))\n",
    "print(l)\n",
    "def search(list, target):\n",
    "    matches = []\n",
    "    for x in range(len(l)):\n",
    "        if l[x] == target:\n",
    "            return x\n",
    "    else:\n",
    "        return -1\n",
    "search(l,17)\n",
    "#Time complexity: O(n) cause you only check each item once, thus time is linearly proportional to len(l)\n",
    "    \n"
   ]
  }
 ],
 "metadata": {
  "kernelspec": {
   "display_name": "Python 3 (ipykernel)",
   "language": "python",
   "name": "python3"
  },
  "language_info": {
   "codemirror_mode": {
    "name": "ipython",
    "version": 3
   },
   "file_extension": ".py",
   "mimetype": "text/x-python",
   "name": "python",
   "nbconvert_exporter": "python",
   "pygments_lexer": "ipython3",
   "version": "3.9.13"
  }
 },
 "nbformat": 4,
 "nbformat_minor": 2
}
